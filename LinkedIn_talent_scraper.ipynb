{
 "cells": [
  {
   "cell_type": "code",
   "execution_count": 274,
   "metadata": {
    "collapsed": false
   },
   "outputs": [
    {
     "name": "stderr",
     "output_type": "stream",
     "text": [
      "/Users/Jaspinder/anaconda/lib/python3.6/site-packages/bs4/__init__.py:181: UserWarning: No parser was explicitly specified, so I'm using the best available HTML parser for this system (\"lxml\"). This usually isn't a problem, but if you run this code on another system, or in a different virtual environment, it may use a different parser and behave differently.\n",
      "\n",
      "The code that caused this warning is on line 193 of the file /Users/Jaspinder/anaconda/lib/python3.6/runpy.py. To get rid of this warning, change code that looks like this:\n",
      "\n",
      " BeautifulSoup([your markup])\n",
      "\n",
      "to this:\n",
      "\n",
      " BeautifulSoup([your markup], \"lxml\")\n",
      "\n",
      "  markup_type=markup_type))\n"
     ]
    },
    {
     "data": {
      "text/plain": [
       "<Response [200]>"
      ]
     },
     "execution_count": 274,
     "metadata": {},
     "output_type": "execute_result"
    }
   ],
   "source": [
    "import requests\n",
    "import pandas as pd\n",
    "import ast\n",
    "import time\n",
    "import random\n",
    "from bs4 import BeautifulSoup\n",
    "\n",
    "client = requests.Session()\n",
    "\n",
    "HOMEPAGE_URL = 'https://www.linkedin.com'\n",
    "LOGIN_URL = 'https://www.linkedin.com/uas/login-submit'\n",
    "\n",
    "html = client.get(HOMEPAGE_URL).content\n",
    "soup = BeautifulSoup(html)\n",
    "csrf = soup.find(id=\"loginCsrfParam-login\")['value']\n",
    "\n",
    "login_information = {\n",
    "    'session_key':'USERNAME',\n",
    "    'session_password':'PASSWORD',\n",
    "    'loginCsrfParam': csrf,\n",
    "}\n",
    "\n",
    "client.post(LOGIN_URL, data=login_information)\n",
    "\n",
    "\n"
   ]
  },
  {
   "cell_type": "code",
   "execution_count": 284,
   "metadata": {
    "collapsed": false
   },
   "outputs": [
    {
     "name": "stdout",
     "output_type": "stream",
     "text": [
      "Awesound\n"
     ]
    }
   ],
   "source": [
    "customer_data=pd.read_csv('/Users/Jaspinder/Desktop/five_referrals/customer_table.csv')\n",
    "search_list=customer_data['Name'].tolist()\n",
    "list_of_lists=[]\n",
    "cols=['firstname','lastname','occupation','publicIdentifier','company_search']\n",
    "print(search_list[0])\n",
    "proxy_urls=['https://www.linkedin.com/mynetwork/','https://www.linkedin.com/jobs/','https://www.linkedin.com/notifications/']"
   ]
  },
  {
   "cell_type": "code",
   "execution_count": 285,
   "metadata": {
    "collapsed": false
   },
   "outputs": [
    {
     "name": "stdout",
     "output_type": "stream",
     "text": [
      "200\n",
      "200\n",
      "200\n",
      "200\n",
      "200\n",
      "200\n",
      "200\n",
      "200\n"
     ]
    }
   ],
   "source": [
    "for company_name in search_list[0]:\n",
    "    search_url='https://www.linkedin.com/search/results/people/?keywords='+company_name.lower()\n",
    "    response1 = client.get(search_url)\n",
    "    print(response1.status_code)\n",
    "    content1=response1.content\n",
    "    parser1=BeautifulSoup(content1,'html.parser')\n",
    "    ##linkedIn keeps data as image in its html. It has a hopping mechanism. So the class identifier is dynamic.\n",
    "    ## Dont try to use class identifier\n",
    "    j=parser1.find('img')\n",
    "    li1=j.text.split('\\n')\n",
    "    ### to remove the text that is more than meta\n",
    "    li2=[i for i in li1 if len(i)>3000]\n",
    "    li3=li2[0].split('},{')\n",
    "    li=['{'+i+'}' for i in li3 if \"firstName\" in i]\n",
    "    "
   ]
  },
  {
   "cell_type": "code",
   "execution_count": 277,
   "metadata": {
    "collapsed": false
   },
   "outputs": [
    {
     "data": {
      "text/plain": [
       "['{\"firstName\":\"Shubham\",\"lastName\":\"Badjate\",\"$deletedFields\":[\"backgroundImage\"],\"occupation\":\"Lead Technical Consultant | IIT Bombay\",\"objectUrn\":\"urn:li:member:98421528\",\"entityUrn\":\"urn:li:fs_miniProfile:ACoAAAXdyxgB6Mx_NSM34yRRwQGZbhTWJx72lx4\",\"publicIdentifier\":\"sbadjate\",\"picture\":{\"com.linkedin.voyager.common.MediaProcessorImage\":\"urn:li:fs_miniProfile:ACoAAAXdyxgB6Mx_NSM34yRRwQGZbhTWJx72lx4,picture,com.linkedin.voyager.common.MediaProcessorImage\"},\"trackingId\":\"4eQM8D/4TnyS/T4j4mgAeQ==\",\"$type\":\"com.linkedin.voyager.identity.shared.MiniProfile\"}',\n",
       " '{\"firstName\":\"Haiming Silvia\",\"lastName\":\"Zhao\",\"$deletedFields\":[\"backgroundImage\"],\"occupation\":\"Sr. Manager, Business Analytics and Data Science at LinkedIn\",\"objectUrn\":\"urn:li:member:19343527\",\"entityUrn\":\"urn:li:fs_miniProfile:ACoAAAEnKKcBGhm9hXTIw_Dqy217G7dZJdqEK08\",\"publicIdentifier\":\"haiming-silvia-zhao-20758a6\",\"picture\":{\"com.linkedin.voyager.common.MediaProcessorImage\":\"urn:li:fs_miniProfile:ACoAAAEnKKcBGhm9hXTIw_Dqy217G7dZJdqEK08,picture,com.linkedin.voyager.common.MediaProcessorImage\"},\"trackingId\":\"j8z6Xzd9Q7Oh8FQAaBM4Qw==\",\"$type\":\"com.linkedin.voyager.identity.shared.MiniProfile\"}',\n",
       " '{\"firstName\":\"Lawrence\",\"lastName\":\"Chaifetz\",\"$deletedFields\":[\"backgroundImage\"],\"occupation\":\"Senior Vice President at WaZee Consulting\",\"objectUrn\":\"urn:li:member:95920672\",\"entityUrn\":\"urn:li:fs_miniProfile:ACoAAAW3oiABpI8qsLBjPfQwtu9IsFYippbqmvQ\",\"publicIdentifier\":\"lawrence-chaifetz-79415928\",\"picture\":{\"com.linkedin.voyager.common.MediaProcessorImage\":\"urn:li:fs_miniProfile:ACoAAAW3oiABpI8qsLBjPfQwtu9IsFYippbqmvQ,picture,com.linkedin.voyager.common.MediaProcessorImage\"},\"trackingId\":\"A9EF5xlTQiW9LQcrAZm9zQ==\",\"$type\":\"com.linkedin.voyager.identity.shared.MiniProfile\"}',\n",
       " '{\"firstName\":\"Michael\",\"lastName\":\"Melchior\",\"$deletedFields\":[\"backgroundImage\"],\"occupation\":\"Team Lead: Global HIV - Monitoring, Evaluation, Data Analytics Branch\",\"objectUrn\":\"urn:li:member:121629087\",\"entityUrn\":\"urn:li:fs_miniProfile:ACoAAAc_6Z8BOlchfpScAp0Ak8iZNX1Tk3ZP_ww\",\"publicIdentifier\":\"michael-melchior-25389734\",\"picture\":{\"com.linkedin.voyager.common.MediaProcessorImage\":\"urn:li:fs_miniProfile:ACoAAAc_6Z8BOlchfpScAp0Ak8iZNX1Tk3ZP_ww,picture,com.linkedin.voyager.common.MediaProcessorImage\"},\"trackingId\":\"3+ukqoTDRD2AKVlSN8TqdQ==\",\"$type\":\"com.linkedin.voyager.identity.shared.MiniProfile\"}',\n",
       " '{\"firstName\":\"Errol\",\"lastName\":\"Rodriguez Ph.D., CRC, MAC\",\"$deletedFields\":[\"backgroundImage\"],\"occupation\":\"Assistant Dean & Program Director, Masters Programs in Psychology and Mental Health Counseling, Adelphi University\",\"objectUrn\":\"urn:li:member:114135036\",\"entityUrn\":\"urn:li:fs_miniProfile:ACoAAAbNj_wBS1l0lBjTpx1FtRi0LH5fhxjEwMY\",\"publicIdentifier\":\"errol-rodriguez-ph-d-crc-mac-45028232\",\"picture\":{\"com.linkedin.voyager.common.MediaProcessorImage\":\"urn:li:fs_miniProfile:ACoAAAbNj_wBS1l0lBjTpx1FtRi0LH5fhxjEwMY,picture,com.linkedin.voyager.common.MediaProcessorImage\"},\"trackingId\":\"/ValLs/lRou+odM5tO7pKA==\",\"$type\":\"com.linkedin.voyager.identity.shared.MiniProfile\"}',\n",
       " '{\"firstName\":\"Elon\",\"lastName\":\"D. Rubin, Esq.\",\"$deletedFields\":[\"backgroundImage\"],\"occupation\":\"iOS Developer (Full Stack), Product Manager UI/UX Designer, Data Architect, Attorney & Innovator\",\"objectUrn\":\"urn:li:member:48706531\",\"entityUrn\":\"urn:li:fs_miniProfile:ACoAAALnM-MBsn9KmCTTcnYRfUtWEisaG-OySnU\",\"publicIdentifier\":\"elonrubin\",\"picture\":{\"com.linkedin.voyager.common.MediaProcessorImage\":\"urn:li:fs_miniProfile:ACoAAALnM-MBsn9KmCTTcnYRfUtWEisaG-OySnU,picture,com.linkedin.voyager.common.MediaProcessorImage\"},\"trackingId\":\"7ZKs0PJjRPqtqhwmNaBTGA==\",\"$type\":\"com.linkedin.voyager.identity.shared.MiniProfile\"}',\n",
       " '{\"firstName\":\"Chris\",\"lastName\":\"DMello\",\"$deletedFields\":[],\"occupation\":\"Director Big Data Analytics at TEQRIDGE\",\"objectUrn\":\"urn:li:member:183789708\",\"entityUrn\":\"urn:li:fs_miniProfile:ACoAAAr0aIwBRmUsRPAf1UWtY2zyqdFBkYmPQBM\",\"backgroundImage\":{\"com.linkedin.voyager.common.MediaProcessorImage\":\"urn:li:fs_miniProfile:ACoAAAr0aIwBRmUsRPAf1UWtY2zyqdFBkYmPQBM,backgroundImage,com.linkedin.voyager.common.MediaProcessorImage\"},\"publicIdentifier\":\"chrisdmello\",\"picture\":{\"com.linkedin.voyager.common.MediaProcessorImage\":\"urn:li:fs_miniProfile:ACoAAAr0aIwBRmUsRPAf1UWtY2zyqdFBkYmPQBM,picture,com.linkedin.voyager.common.MediaProcessorImage\"},\"trackingId\":\"9vuOnw1WSMGooLCPoLYW+A==\",\"$type\":\"com.linkedin.voyager.identity.shared.MiniProfile\"}',\n",
       " '{\"firstName\":\"Paul\",\"lastName\":\"Weisser\",\"$deletedFields\":[\"backgroundImage\"],\"occupation\":\"Writer/Editor/Desktop Publisher, Ph.D.\",\"objectUrn\":\"urn:li:member:1660297\",\"entityUrn\":\"urn:li:fs_miniProfile:ACoAAAAZVYkBF8dfTHujFdgXm25uS16cHDSIRoY\",\"publicIdentifier\":\"paulweisser\",\"picture\":{\"com.linkedin.voyager.common.MediaProcessorImage\":\"urn:li:fs_miniProfile:ACoAAAAZVYkBF8dfTHujFdgXm25uS16cHDSIRoY,picture,com.linkedin.voyager.common.MediaProcessorImage\"},\"trackingId\":\"RSFi9Bu4SgWpcxAdCCEQig==\",\"$type\":\"com.linkedin.voyager.identity.shared.MiniProfile\"}',\n",
       " '{\"firstName\":\"Doug\",\"lastName\":\"Berman\",\"$deletedFields\":[\"backgroundImage\"],\"occupation\":\"Product Manager at Drizly\",\"objectUrn\":\"urn:li:member:60192498\",\"entityUrn\":\"urn:li:fs_miniProfile:ACoAAAOWdvIBUwb1BLfvdTsw2Ck56iINcQl0OZE\",\"publicIdentifier\":\"dougjberman\",\"picture\":{\"com.linkedin.voyager.common.MediaProcessorImage\":\"urn:li:fs_miniProfile:ACoAAAOWdvIBUwb1BLfvdTsw2Ck56iINcQl0OZE,picture,com.linkedin.voyager.common.MediaProcessorImage\"},\"trackingId\":\"cbdVx0+uTvSr7Yl5yvBZtQ==\",\"$type\":\"com.linkedin.voyager.identity.shared.MiniProfile\"}',\n",
       " '{\"firstName\":\"Peter\",\"lastName\":\"Zhu\",\"$deletedFields\":[\"backgroundImage\"],\"occupation\":\"How I can help YOU?\",\"objectUrn\":\"urn:li:member:2768120\",\"entityUrn\":\"urn:li:fs_miniProfile:ACoAAAAqPPgBUFXZEfsTbgF2aqUO5vMxtq1UUKY\",\"publicIdentifier\":\"peterzhu1\",\"picture\":{\"com.linkedin.voyager.common.MediaProcessorImage\":\"urn:li:fs_miniProfile:ACoAAAAqPPgBUFXZEfsTbgF2aqUO5vMxtq1UUKY,picture,com.linkedin.voyager.common.MediaProcessorImage\"},\"trackingId\":\"h6FJym6+SA6gr2L8iHTjRA==\",\"$type\":\"com.linkedin.voyager.identity.shared.MiniProfile\"}',\n",
       " '{\"firstName\":\"Yongzheng (Tiger)\",\"lastName\":\"Zhang\",\"$deletedFields\":[\"backgroundImage\"],\"occupation\":\"Senior Staff, Analytics at LinkedIn\",\"objectUrn\":\"urn:li:member:23723269\",\"entityUrn\":\"urn:li:fs_miniProfile:ACoAAAFp_QUBvLNHz3LgXJ-xj9w-dBMSmcHNvOg\",\"publicIdentifier\":\"tigerzhang\",\"picture\":{\"com.linkedin.voyager.common.MediaProcessorImage\":\"urn:li:fs_miniProfile:ACoAAAFp_QUBvLNHz3LgXJ-xj9w-dBMSmcHNvOg,picture,com.linkedin.voyager.common.MediaProcessorImage\"},\"trackingId\":\"wx63LriGS0+Yo5208Nt5bA==\",\"$type\":\"com.linkedin.voyager.identity.shared.MiniProfile\"}',\n",
       " '{\"firstName\":\"Mark D.\",\"lastName\":\"Bardini, Ph.D.\",\"$deletedFields\":[\"backgroundImage\"],\"occupation\":\"Senior Vice President, M&E and U.S. Operations\",\"objectUrn\":\"urn:li:member:18868840\",\"entityUrn\":\"urn:li:fs_miniProfile:ACoAAAEf6mgBMfYEIHJFjAvDd47HHECQy-1kQ5U\",\"publicIdentifier\":\"bardini\",\"picture\":{\"com.linkedin.voyager.common.MediaProcessorImage\":\"urn:li:fs_miniProfile:ACoAAAEf6mgBMfYEIHJFjAvDd47HHECQy-1kQ5U,picture,com.linkedin.voyager.common.MediaProcessorImage\"},\"trackingId\":\"vh+x7NM+R1KUqEUmYMtMxw==\",\"$type\":\"com.linkedin.voyager.identity.shared.MiniProfile\"}',\n",
       " '{\"firstName\":\"Justin\",\"lastName\":\"Choi EMBA CISSP\",\"$deletedFields\":[\"backgroundImage\",\"picture\"],\"occupation\":\"Executive\",\"objectUrn\":\"urn:li:member:366100548\",\"entityUrn\":\"urn:li:fs_miniProfile:ACoAABXSQEQBMDUoDc2PXSc7I7zYWC3fQ7EFIXc\",\"publicIdentifier\":\"justin-choi-emba-cissp-8b0733a2\",\"trackingId\":\"x3vFyj2LQnWQAq3LLhTX4w==\",\"$type\":\"com.linkedin.voyager.identity.shared.MiniProfile\"}',\n",
       " '{\"firstName\":\"Eve\",\"lastName\":\"Miller\",\"$deletedFields\":[],\"occupation\":\"Intertrust is hiring!\",\"objectUrn\":\"urn:li:member:147289587\",\"entityUrn\":\"urn:li:fs_miniProfile:ACoAAAjHdfMBN5fWt1otHiuKsic_zyzbmUsTDyE\",\"backgroundImage\":{\"com.linkedin.voyager.common.MediaProcessorImage\":\"urn:li:fs_miniProfile:ACoAAAjHdfMBN5fWt1otHiuKsic_zyzbmUsTDyE,backgroundImage,com.linkedin.voyager.common.MediaProcessorImage\"},\"publicIdentifier\":\"eve81\",\"picture\":{\"com.linkedin.voyager.common.MediaProcessorImage\":\"urn:li:fs_miniProfile:ACoAAAjHdfMBN5fWt1otHiuKsic_zyzbmUsTDyE,picture,com.linkedin.voyager.common.MediaProcessorImage\"},\"trackingId\":\"VB0mYmclTsGtgDRGKn7uJQ==\",\"$type\":\"com.linkedin.voyager.identity.shared.MiniProfile\"}',\n",
       " '{\"firstName\":\"Jon\",\"lastName\":\"Wolheim, PHR\",\"$deletedFields\":[],\"occupation\":\"Senior Manager, People at Apple\",\"objectUrn\":\"urn:li:member:66599933\",\"entityUrn\":\"urn:li:fs_miniProfile:ACoAAAP4O_0BZiqkjvZRyfUW_uZ50nrmnsPzvcU\",\"backgroundImage\":{\"com.linkedin.voyager.common.MediaProcessorImage\":\"urn:li:fs_miniProfile:ACoAAAP4O_0BZiqkjvZRyfUW_uZ50nrmnsPzvcU,backgroundImage,com.linkedin.voyager.common.MediaProcessorImage\"},\"publicIdentifier\":\"jonwolheim\",\"picture\":{\"com.linkedin.voyager.common.MediaProcessorImage\":\"urn:li:fs_miniProfile:ACoAAAP4O_0BZiqkjvZRyfUW_uZ50nrmnsPzvcU,picture,com.linkedin.voyager.common.MediaProcessorImage\"},\"trackingId\":\"/NJBBEbyTR6GTHqL2j7LUQ==\",\"$type\":\"com.linkedin.voyager.identity.shared.MiniProfile\"}',\n",
       " '{\"firstName\":\"Nisha\",\"lastName\":\"Mutneja\",\"$deletedFields\":[\"backgroundImage\"],\"occupation\":\"Exploring\",\"objectUrn\":\"urn:li:member:161448004\",\"entityUrn\":\"urn:li:fs_miniProfile:ACoAAAmfgEQBNY79iA2anp_3inUV6yNNTDukdDo\",\"publicIdentifier\":\"nishamutneja\",\"picture\":{\"com.linkedin.voyager.common.MediaProcessorImage\":\"urn:li:fs_miniProfile:ACoAAAmfgEQBNY79iA2anp_3inUV6yNNTDukdDo,picture,com.linkedin.voyager.common.MediaProcessorImage\"},\"trackingId\":\"ZZnIxagUTCaF67oC0doiAA==\",\"$type\":\"com.linkedin.voyager.identity.shared.MiniProfile\"}',\n",
       " '{\"firstName\":\"John D.\",\"lastName\":\"Johnson, Ph.D.\",\"$deletedFields\":[\"backgroundImage\"],\"occupation\":\"Information Security, Architecture & Risk Leader\",\"objectUrn\":\"urn:li:member:14882092\",\"entityUrn\":\"urn:li:fs_miniProfile:ACoAAADjFSwB0JEY15mtInAbw2wbx2ejPRvGmmg\",\"publicIdentifier\":\"nullsession\",\"picture\":{\"com.linkedin.voyager.common.MediaProcessorImage\":\"urn:li:fs_miniProfile:ACoAAADjFSwB0JEY15mtInAbw2wbx2ejPRvGmmg,picture,com.linkedin.voyager.common.MediaProcessorImage\"},\"trackingId\":\"/RiArpVtS+e2MOpahjwftg==\",\"$type\":\"com.linkedin.voyager.identity.shared.MiniProfile\"}',\n",
       " '{\"firstName\":\"Ganesh\",\"lastName\":\"Balakrishnan\",\"$deletedFields\":[],\"occupation\":\"AVP Seller Services at ShopClues\",\"objectUrn\":\"urn:li:member:933324\",\"entityUrn\":\"urn:li:fs_miniProfile:ACoAAAAOPcwBagD61LUokuUQOAAscRynwF6taNU\",\"backgroundImage\":{\"com.linkedin.voyager.common.MediaProcessorImage\":\"urn:li:fs_miniProfile:ACoAAAAOPcwBagD61LUokuUQOAAscRynwF6taNU,backgroundImage,com.linkedin.voyager.common.MediaProcessorImage\"},\"publicIdentifier\":\"ganeshbalakrishnan\",\"picture\":{\"com.linkedin.voyager.common.MediaProcessorImage\":\"urn:li:fs_miniProfile:ACoAAAAOPcwBagD61LUokuUQOAAscRynwF6taNU,picture,com.linkedin.voyager.common.MediaProcessorImage\"},\"trackingId\":\"ddbC5DzpT1KflDGSfq+WbA==\",\"$type\":\"com.linkedin.voyager.identity.shared.MiniProfile\"}',\n",
       " '{\"firstName\":\"Manoranjan\",\"lastName\":\"Sahu, Ph.D.\",\"$deletedFields\":[\"backgroundImage\"],\"occupation\":\"R & D Scientist at SunEdison\",\"objectUrn\":\"urn:li:member:23861369\",\"entityUrn\":\"urn:li:fs_miniProfile:ACoAAAFsGHkB4PwV7BVs8IQp7-BgXUUO4jHzA6U\",\"publicIdentifier\":\"manoranjan1\",\"picture\":{\"com.linkedin.voyager.common.MediaProcessorImage\":\"urn:li:fs_miniProfile:ACoAAAFsGHkB4PwV7BVs8IQp7-BgXUUO4jHzA6U,picture,com.linkedin.voyager.common.MediaProcessorImage\"},\"trackingId\":\"Iuio5MmIT2OF/8Z5dnNCiw==\",\"$type\":\"com.linkedin.voyager.identity.shared.MiniProfile\"}',\n",
       " '{\"firstName\":\"Debraj\",\"lastName\":\"Ghosh, PhD, MBA\",\"$deletedFields\":[],\"occupation\":\"Senior Product Marketing Manager, Threat Protection, Office 365 at Microsoft\",\"objectUrn\":\"urn:li:member:22478362\",\"entityUrn\":\"urn:li:fs_miniProfile:ACoAAAFW_hoBgW0gxMNLyMqCXmyXq2tYjrmbRng\",\"backgroundImage\":{\"com.linkedin.voyager.common.MediaProcessorImage\":\"urn:li:fs_miniProfile:ACoAAAFW_hoBgW0gxMNLyMqCXmyXq2tYjrmbRng,backgroundImage,com.linkedin.voyager.common.MediaProcessorImage\"},\"publicIdentifier\":\"debraj-ghosh-phd-mba-38a6407\",\"picture\":{\"com.linkedin.voyager.common.MediaProcessorImage\":\"urn:li:fs_miniProfile:ACoAAAFW_hoBgW0gxMNLyMqCXmyXq2tYjrmbRng,picture,com.linkedin.voyager.common.MediaProcessorImage\"},\"trackingId\":\"o2i6xMCTSJmcMlna2tFB7g==\",\"$type\":\"com.linkedin.voyager.identity.shared.MiniProfile\"}',\n",
       " '{\"firstName\":\"Pilar\",\"lastName\":\"Martin, MD, MPH, MHSA\",\"$deletedFields\":[\"backgroundImage\"],\"occupation\":\"MPH Program Director, Assistant Professor of Public Health at Adelphi University\",\"objectUrn\":\"urn:li:member:53009519\",\"entityUrn\":\"urn:li:fs_miniProfile:ACoAAAMo3G8B9_2QOmzQ5AiJuNn3-Of7QEDy0mU\",\"publicIdentifier\":\"pilar-martin-md-mph-mhsa-97b90415\",\"picture\":{\"com.linkedin.voyager.common.MediaProcessorImage\":\"urn:li:fs_miniProfile:ACoAAAMo3G8B9_2QOmzQ5AiJuNn3-Of7QEDy0mU,picture,com.linkedin.voyager.common.MediaProcessorImage\"},\"trackingId\":\"rapqhwM4S+GFW3kYWOshBA==\",\"$type\":\"com.linkedin.voyager.identity.shared.MiniProfile\"}',\n",
       " '{\"firstName\":\"Dr. Raju\",\"lastName\":\"Kadam, Ph.D\",\"$deletedFields\":[\"backgroundImage\"],\"occupation\":\"R&D, Manager @ KCTI ( Bharat Forge Ltd ), Pune\",\"objectUrn\":\"urn:li:member:2134101\",\"entityUrn\":\"urn:li:fs_miniProfile:ACoAAAAgkFUBrXTDKimJwUazvKe677EbczOE8yg\",\"publicIdentifier\":\"dr-raju-kadam-ph-d-01986b\",\"picture\":{\"com.linkedin.voyager.common.MediaProcessorImage\":\"urn:li:fs_miniProfile:ACoAAAAgkFUBrXTDKimJwUazvKe677EbczOE8yg,picture,com.linkedin.voyager.common.MediaProcessorImage\"},\"trackingId\":\"05LyaVc8R3GFH6cMycWpWg==\",\"$type\":\"com.linkedin.voyager.identity.shared.MiniProfile\"}',\n",
       " '{\"firstName\":\"Puja\",\"lastName\":\"Gorai\",\"$deletedFields\":[\"backgroundImage\"],\"occupation\":\"Looking for highly energetic and motivated analysts @Jumbotail \",\"objectUrn\":\"urn:li:member:86561983\",\"entityUrn\":\"urn:li:fs_miniProfile:ACoAAAUo1L8B2B_ADyhbtm42lt9pOcC-VbHhFyA\",\"publicIdentifier\":\"puja-gorai-8a7ba524\",\"picture\":{\"com.linkedin.voyager.common.MediaProcessorImage\":\"urn:li:fs_miniProfile:ACoAAAUo1L8B2B_ADyhbtm42lt9pOcC-VbHhFyA,picture,com.linkedin.voyager.common.MediaProcessorImage\"},\"trackingId\":\"VC3AWSV3SC2AATUC6+nYFQ==\",\"$type\":\"com.linkedin.voyager.identity.shared.MiniProfile\"}',\n",
       " '{\"firstName\":\"Peter D.\",\"lastName\":\"Hart, Ph.D.\",\"$deletedFields\":[\"backgroundImage\"],\"occupation\":\"Associate Professor of Health Promotion\",\"objectUrn\":\"urn:li:member:289375607\",\"entityUrn\":\"urn:li:fs_miniProfile:ACoAABE_hXcBkcwFjTpFneWoIVDDRNSUQKK9Na8\",\"publicIdentifier\":\"peter-d-hart-ph-d-89bab280\",\"picture\":{\"com.linkedin.voyager.common.MediaProcessorImage\":\"urn:li:fs_miniProfile:ACoAABE_hXcBkcwFjTpFneWoIVDDRNSUQKK9Na8,picture,com.linkedin.voyager.common.MediaProcessorImage\"},\"trackingId\":\"MySk2P6iTHW5XKkIOslEUg==\",\"$type\":\"com.linkedin.voyager.identity.shared.MiniProfile\"}',\n",
       " '{\"firstName\":\"Yuchun Li,\",\"lastName\":\"Ph.D.\",\"$deletedFields\":[\"backgroundImage\",\"picture\"],\"occupation\":\"Data Scientist at Quad Analytix\",\"objectUrn\":\"urn:li:member:43760608\",\"entityUrn\":\"urn:li:fs_miniProfile:ACoAAAKbu-ABIk8Bo3wUcWMxqu0f7tn7Cs1RigY\",\"publicIdentifier\":\"yuchunli\",\"trackingId\":\"X+TNenr2TvafchuWMWpPdQ==\",\"$type\":\"com.linkedin.voyager.identity.shared.MiniProfile\"}',\n",
       " '{\"firstName\":\"Kim D.\",\"lastName\":\"Snyder\",\"$deletedFields\":[\"backgroundImage\"],\"occupation\":\"Enterprise Performance Management (EPM) Strategy Expert & Thought Leader, Keynote Speaker & Author\",\"objectUrn\":\"urn:li:member:12172566\",\"entityUrn\":\"urn:li:fs_miniProfile:ACoAAAC5vRYB-cHJxWQHEsOslMEt1z2n94zY-EM\",\"publicIdentifier\":\"kimdsnyder\",\"picture\":{\"com.linkedin.voyager.common.MediaProcessorImage\":\"urn:li:fs_miniProfile:ACoAAAC5vRYB-cHJxWQHEsOslMEt1z2n94zY-EM,picture,com.linkedin.voyager.common.MediaProcessorImage\"},\"trackingId\":\"XCw3jqQSRXiHJQ5lUchdqg==\",\"$type\":\"com.linkedin.voyager.identity.shared.MiniProfile\"}',\n",
       " '{\"firstName\":\"Danny\",\"lastName\":\"Rueda\",\"$deletedFields\":[\"backgroundImage\"],\"occupation\":\"Data Analytics at Gusto\",\"objectUrn\":\"urn:li:member:28295330\",\"entityUrn\":\"urn:li:fs_miniProfile:ACoAAAGvwKIBCwjF35U2VnIfwrkVbybas6aspw0\",\"publicIdentifier\":\"danny-rueda-7425869\",\"picture\":{\"com.linkedin.voyager.common.MediaProcessorImage\":\"urn:li:fs_miniProfile:ACoAAAGvwKIBCwjF35U2VnIfwrkVbybas6aspw0,picture,com.linkedin.voyager.common.MediaProcessorImage\"},\"trackingId\":\"CH5/Kp8SQsatXLrRKzjkYQ==\",\"$type\":\"com.linkedin.voyager.identity.shared.MiniProfile\"}']"
      ]
     },
     "execution_count": 277,
     "metadata": {},
     "output_type": "execute_result"
    }
   ],
   "source": [
    "    ##linkedIn keeps data as image in its html. It has a hopping mechanism. So the class identifier is dynamic.\n",
    "    ## Dont try to use class identifier\n",
    "    j=parser1.find('img')\n",
    "    li1=j.text.split('\\n')\n",
    "    ### to remove the text that is more than meta\n",
    "    li2=[i for i in li1 if len(i)>3000]\n",
    "    li3=li2[0].split('},{')\n",
    "    li=['{'+i+'}' for i in li3 if \"firstName\" in i]\n",
    "    li"
   ]
  },
  {
   "cell_type": "code",
   "execution_count": 278,
   "metadata": {
    "collapsed": false,
    "scrolled": false
   },
   "outputs": [
    {
     "name": "stdout",
     "output_type": "stream",
     "text": [
      "{'firstName': 'Shubham', 'lastName': 'Badjate', '$deletedFields': ['backgroundImage'], 'occupation': 'Lead Technical Consultant | IIT Bombay', 'objectUrn': 'urn:li:member:98421528', 'entityUrn': 'urn:li:fs_miniProfile:ACoAAAXdyxgB6Mx_NSM34yRRwQGZbhTWJx72lx4', 'publicIdentifier': 'sbadjate', 'picture': {'com.linkedin.voyager.common.MediaProcessorImage': 'urn:li:fs_miniProfile:ACoAAAXdyxgB6Mx_NSM34yRRwQGZbhTWJx72lx4,picture,com.linkedin.voyager.common.MediaProcessorImage'}, 'trackingId': '4eQM8D/4TnyS/T4j4mgAeQ==', '$type': 'com.linkedin.voyager.identity.shared.MiniProfile'}\n",
      "{'firstName': 'Haiming Silvia', 'lastName': 'Zhao', '$deletedFields': ['backgroundImage'], 'occupation': 'Sr. Manager, Business Analytics and Data Science at LinkedIn', 'objectUrn': 'urn:li:member:19343527', 'entityUrn': 'urn:li:fs_miniProfile:ACoAAAEnKKcBGhm9hXTIw_Dqy217G7dZJdqEK08', 'publicIdentifier': 'haiming-silvia-zhao-20758a6', 'picture': {'com.linkedin.voyager.common.MediaProcessorImage': 'urn:li:fs_miniProfile:ACoAAAEnKKcBGhm9hXTIw_Dqy217G7dZJdqEK08,picture,com.linkedin.voyager.common.MediaProcessorImage'}, 'trackingId': 'j8z6Xzd9Q7Oh8FQAaBM4Qw==', '$type': 'com.linkedin.voyager.identity.shared.MiniProfile'}\n",
      "{'firstName': 'Lawrence', 'lastName': 'Chaifetz', '$deletedFields': ['backgroundImage'], 'occupation': 'Senior Vice President at WaZee Consulting', 'objectUrn': 'urn:li:member:95920672', 'entityUrn': 'urn:li:fs_miniProfile:ACoAAAW3oiABpI8qsLBjPfQwtu9IsFYippbqmvQ', 'publicIdentifier': 'lawrence-chaifetz-79415928', 'picture': {'com.linkedin.voyager.common.MediaProcessorImage': 'urn:li:fs_miniProfile:ACoAAAW3oiABpI8qsLBjPfQwtu9IsFYippbqmvQ,picture,com.linkedin.voyager.common.MediaProcessorImage'}, 'trackingId': 'A9EF5xlTQiW9LQcrAZm9zQ==', '$type': 'com.linkedin.voyager.identity.shared.MiniProfile'}\n",
      "{'firstName': 'Michael', 'lastName': 'Melchior', '$deletedFields': ['backgroundImage'], 'occupation': 'Team Lead: Global HIV - Monitoring, Evaluation, Data Analytics Branch', 'objectUrn': 'urn:li:member:121629087', 'entityUrn': 'urn:li:fs_miniProfile:ACoAAAc_6Z8BOlchfpScAp0Ak8iZNX1Tk3ZP_ww', 'publicIdentifier': 'michael-melchior-25389734', 'picture': {'com.linkedin.voyager.common.MediaProcessorImage': 'urn:li:fs_miniProfile:ACoAAAc_6Z8BOlchfpScAp0Ak8iZNX1Tk3ZP_ww,picture,com.linkedin.voyager.common.MediaProcessorImage'}, 'trackingId': '3+ukqoTDRD2AKVlSN8TqdQ==', '$type': 'com.linkedin.voyager.identity.shared.MiniProfile'}\n",
      "{'firstName': 'Errol', 'lastName': 'Rodriguez Ph.D., CRC, MAC', '$deletedFields': ['backgroundImage'], 'occupation': 'Assistant Dean & Program Director, Masters Programs in Psychology and Mental Health Counseling, Adelphi University', 'objectUrn': 'urn:li:member:114135036', 'entityUrn': 'urn:li:fs_miniProfile:ACoAAAbNj_wBS1l0lBjTpx1FtRi0LH5fhxjEwMY', 'publicIdentifier': 'errol-rodriguez-ph-d-crc-mac-45028232', 'picture': {'com.linkedin.voyager.common.MediaProcessorImage': 'urn:li:fs_miniProfile:ACoAAAbNj_wBS1l0lBjTpx1FtRi0LH5fhxjEwMY,picture,com.linkedin.voyager.common.MediaProcessorImage'}, 'trackingId': '/ValLs/lRou+odM5tO7pKA==', '$type': 'com.linkedin.voyager.identity.shared.MiniProfile'}\n",
      "{'firstName': 'Elon', 'lastName': 'D. Rubin, Esq.', '$deletedFields': ['backgroundImage'], 'occupation': 'iOS Developer (Full Stack), Product Manager UI/UX Designer, Data Architect, Attorney & Innovator', 'objectUrn': 'urn:li:member:48706531', 'entityUrn': 'urn:li:fs_miniProfile:ACoAAALnM-MBsn9KmCTTcnYRfUtWEisaG-OySnU', 'publicIdentifier': 'elonrubin', 'picture': {'com.linkedin.voyager.common.MediaProcessorImage': 'urn:li:fs_miniProfile:ACoAAALnM-MBsn9KmCTTcnYRfUtWEisaG-OySnU,picture,com.linkedin.voyager.common.MediaProcessorImage'}, 'trackingId': '7ZKs0PJjRPqtqhwmNaBTGA==', '$type': 'com.linkedin.voyager.identity.shared.MiniProfile'}\n",
      "{'firstName': 'Chris', 'lastName': 'DMello', '$deletedFields': [], 'occupation': 'Director Big Data Analytics at TEQRIDGE', 'objectUrn': 'urn:li:member:183789708', 'entityUrn': 'urn:li:fs_miniProfile:ACoAAAr0aIwBRmUsRPAf1UWtY2zyqdFBkYmPQBM', 'backgroundImage': {'com.linkedin.voyager.common.MediaProcessorImage': 'urn:li:fs_miniProfile:ACoAAAr0aIwBRmUsRPAf1UWtY2zyqdFBkYmPQBM,backgroundImage,com.linkedin.voyager.common.MediaProcessorImage'}, 'publicIdentifier': 'chrisdmello', 'picture': {'com.linkedin.voyager.common.MediaProcessorImage': 'urn:li:fs_miniProfile:ACoAAAr0aIwBRmUsRPAf1UWtY2zyqdFBkYmPQBM,picture,com.linkedin.voyager.common.MediaProcessorImage'}, 'trackingId': '9vuOnw1WSMGooLCPoLYW+A==', '$type': 'com.linkedin.voyager.identity.shared.MiniProfile'}\n",
      "{'firstName': 'Paul', 'lastName': 'Weisser', '$deletedFields': ['backgroundImage'], 'occupation': 'Writer/Editor/Desktop Publisher, Ph.D.', 'objectUrn': 'urn:li:member:1660297', 'entityUrn': 'urn:li:fs_miniProfile:ACoAAAAZVYkBF8dfTHujFdgXm25uS16cHDSIRoY', 'publicIdentifier': 'paulweisser', 'picture': {'com.linkedin.voyager.common.MediaProcessorImage': 'urn:li:fs_miniProfile:ACoAAAAZVYkBF8dfTHujFdgXm25uS16cHDSIRoY,picture,com.linkedin.voyager.common.MediaProcessorImage'}, 'trackingId': 'RSFi9Bu4SgWpcxAdCCEQig==', '$type': 'com.linkedin.voyager.identity.shared.MiniProfile'}\n",
      "{'firstName': 'Doug', 'lastName': 'Berman', '$deletedFields': ['backgroundImage'], 'occupation': 'Product Manager at Drizly', 'objectUrn': 'urn:li:member:60192498', 'entityUrn': 'urn:li:fs_miniProfile:ACoAAAOWdvIBUwb1BLfvdTsw2Ck56iINcQl0OZE', 'publicIdentifier': 'dougjberman', 'picture': {'com.linkedin.voyager.common.MediaProcessorImage': 'urn:li:fs_miniProfile:ACoAAAOWdvIBUwb1BLfvdTsw2Ck56iINcQl0OZE,picture,com.linkedin.voyager.common.MediaProcessorImage'}, 'trackingId': 'cbdVx0+uTvSr7Yl5yvBZtQ==', '$type': 'com.linkedin.voyager.identity.shared.MiniProfile'}\n",
      "{'firstName': 'Peter', 'lastName': 'Zhu', '$deletedFields': ['backgroundImage'], 'occupation': 'How I can help YOU?', 'objectUrn': 'urn:li:member:2768120', 'entityUrn': 'urn:li:fs_miniProfile:ACoAAAAqPPgBUFXZEfsTbgF2aqUO5vMxtq1UUKY', 'publicIdentifier': 'peterzhu1', 'picture': {'com.linkedin.voyager.common.MediaProcessorImage': 'urn:li:fs_miniProfile:ACoAAAAqPPgBUFXZEfsTbgF2aqUO5vMxtq1UUKY,picture,com.linkedin.voyager.common.MediaProcessorImage'}, 'trackingId': 'h6FJym6+SA6gr2L8iHTjRA==', '$type': 'com.linkedin.voyager.identity.shared.MiniProfile'}\n",
      "{'firstName': 'Yongzheng (Tiger)', 'lastName': 'Zhang', '$deletedFields': ['backgroundImage'], 'occupation': 'Senior Staff, Analytics at LinkedIn', 'objectUrn': 'urn:li:member:23723269', 'entityUrn': 'urn:li:fs_miniProfile:ACoAAAFp_QUBvLNHz3LgXJ-xj9w-dBMSmcHNvOg', 'publicIdentifier': 'tigerzhang', 'picture': {'com.linkedin.voyager.common.MediaProcessorImage': 'urn:li:fs_miniProfile:ACoAAAFp_QUBvLNHz3LgXJ-xj9w-dBMSmcHNvOg,picture,com.linkedin.voyager.common.MediaProcessorImage'}, 'trackingId': 'wx63LriGS0+Yo5208Nt5bA==', '$type': 'com.linkedin.voyager.identity.shared.MiniProfile'}\n",
      "{'firstName': 'Mark D.', 'lastName': 'Bardini, Ph.D.', '$deletedFields': ['backgroundImage'], 'occupation': 'Senior Vice President, M&E and U.S. Operations', 'objectUrn': 'urn:li:member:18868840', 'entityUrn': 'urn:li:fs_miniProfile:ACoAAAEf6mgBMfYEIHJFjAvDd47HHECQy-1kQ5U', 'publicIdentifier': 'bardini', 'picture': {'com.linkedin.voyager.common.MediaProcessorImage': 'urn:li:fs_miniProfile:ACoAAAEf6mgBMfYEIHJFjAvDd47HHECQy-1kQ5U,picture,com.linkedin.voyager.common.MediaProcessorImage'}, 'trackingId': 'vh+x7NM+R1KUqEUmYMtMxw==', '$type': 'com.linkedin.voyager.identity.shared.MiniProfile'}\n",
      "{'firstName': 'Justin', 'lastName': 'Choi EMBA CISSP', '$deletedFields': ['backgroundImage', 'picture'], 'occupation': 'Executive', 'objectUrn': 'urn:li:member:366100548', 'entityUrn': 'urn:li:fs_miniProfile:ACoAABXSQEQBMDUoDc2PXSc7I7zYWC3fQ7EFIXc', 'publicIdentifier': 'justin-choi-emba-cissp-8b0733a2', 'trackingId': 'x3vFyj2LQnWQAq3LLhTX4w==', '$type': 'com.linkedin.voyager.identity.shared.MiniProfile'}\n",
      "{'firstName': 'Eve', 'lastName': 'Miller', '$deletedFields': [], 'occupation': 'Intertrust is hiring!', 'objectUrn': 'urn:li:member:147289587', 'entityUrn': 'urn:li:fs_miniProfile:ACoAAAjHdfMBN5fWt1otHiuKsic_zyzbmUsTDyE', 'backgroundImage': {'com.linkedin.voyager.common.MediaProcessorImage': 'urn:li:fs_miniProfile:ACoAAAjHdfMBN5fWt1otHiuKsic_zyzbmUsTDyE,backgroundImage,com.linkedin.voyager.common.MediaProcessorImage'}, 'publicIdentifier': 'eve81', 'picture': {'com.linkedin.voyager.common.MediaProcessorImage': 'urn:li:fs_miniProfile:ACoAAAjHdfMBN5fWt1otHiuKsic_zyzbmUsTDyE,picture,com.linkedin.voyager.common.MediaProcessorImage'}, 'trackingId': 'VB0mYmclTsGtgDRGKn7uJQ==', '$type': 'com.linkedin.voyager.identity.shared.MiniProfile'}\n",
      "{'firstName': 'Jon', 'lastName': 'Wolheim, PHR', '$deletedFields': [], 'occupation': 'Senior Manager, People at Apple', 'objectUrn': 'urn:li:member:66599933', 'entityUrn': 'urn:li:fs_miniProfile:ACoAAAP4O_0BZiqkjvZRyfUW_uZ50nrmnsPzvcU', 'backgroundImage': {'com.linkedin.voyager.common.MediaProcessorImage': 'urn:li:fs_miniProfile:ACoAAAP4O_0BZiqkjvZRyfUW_uZ50nrmnsPzvcU,backgroundImage,com.linkedin.voyager.common.MediaProcessorImage'}, 'publicIdentifier': 'jonwolheim', 'picture': {'com.linkedin.voyager.common.MediaProcessorImage': 'urn:li:fs_miniProfile:ACoAAAP4O_0BZiqkjvZRyfUW_uZ50nrmnsPzvcU,picture,com.linkedin.voyager.common.MediaProcessorImage'}, 'trackingId': '/NJBBEbyTR6GTHqL2j7LUQ==', '$type': 'com.linkedin.voyager.identity.shared.MiniProfile'}\n",
      "{'firstName': 'Nisha', 'lastName': 'Mutneja', '$deletedFields': ['backgroundImage'], 'occupation': 'Exploring', 'objectUrn': 'urn:li:member:161448004', 'entityUrn': 'urn:li:fs_miniProfile:ACoAAAmfgEQBNY79iA2anp_3inUV6yNNTDukdDo', 'publicIdentifier': 'nishamutneja', 'picture': {'com.linkedin.voyager.common.MediaProcessorImage': 'urn:li:fs_miniProfile:ACoAAAmfgEQBNY79iA2anp_3inUV6yNNTDukdDo,picture,com.linkedin.voyager.common.MediaProcessorImage'}, 'trackingId': 'ZZnIxagUTCaF67oC0doiAA==', '$type': 'com.linkedin.voyager.identity.shared.MiniProfile'}\n",
      "{'firstName': 'John D.', 'lastName': 'Johnson, Ph.D.', '$deletedFields': ['backgroundImage'], 'occupation': 'Information Security, Architecture & Risk Leader', 'objectUrn': 'urn:li:member:14882092', 'entityUrn': 'urn:li:fs_miniProfile:ACoAAADjFSwB0JEY15mtInAbw2wbx2ejPRvGmmg', 'publicIdentifier': 'nullsession', 'picture': {'com.linkedin.voyager.common.MediaProcessorImage': 'urn:li:fs_miniProfile:ACoAAADjFSwB0JEY15mtInAbw2wbx2ejPRvGmmg,picture,com.linkedin.voyager.common.MediaProcessorImage'}, 'trackingId': '/RiArpVtS+e2MOpahjwftg==', '$type': 'com.linkedin.voyager.identity.shared.MiniProfile'}\n",
      "{'firstName': 'Ganesh', 'lastName': 'Balakrishnan', '$deletedFields': [], 'occupation': 'AVP Seller Services at ShopClues', 'objectUrn': 'urn:li:member:933324', 'entityUrn': 'urn:li:fs_miniProfile:ACoAAAAOPcwBagD61LUokuUQOAAscRynwF6taNU', 'backgroundImage': {'com.linkedin.voyager.common.MediaProcessorImage': 'urn:li:fs_miniProfile:ACoAAAAOPcwBagD61LUokuUQOAAscRynwF6taNU,backgroundImage,com.linkedin.voyager.common.MediaProcessorImage'}, 'publicIdentifier': 'ganeshbalakrishnan', 'picture': {'com.linkedin.voyager.common.MediaProcessorImage': 'urn:li:fs_miniProfile:ACoAAAAOPcwBagD61LUokuUQOAAscRynwF6taNU,picture,com.linkedin.voyager.common.MediaProcessorImage'}, 'trackingId': 'ddbC5DzpT1KflDGSfq+WbA==', '$type': 'com.linkedin.voyager.identity.shared.MiniProfile'}\n",
      "{'firstName': 'Manoranjan', 'lastName': 'Sahu, Ph.D.', '$deletedFields': ['backgroundImage'], 'occupation': 'R & D Scientist at SunEdison', 'objectUrn': 'urn:li:member:23861369', 'entityUrn': 'urn:li:fs_miniProfile:ACoAAAFsGHkB4PwV7BVs8IQp7-BgXUUO4jHzA6U', 'publicIdentifier': 'manoranjan1', 'picture': {'com.linkedin.voyager.common.MediaProcessorImage': 'urn:li:fs_miniProfile:ACoAAAFsGHkB4PwV7BVs8IQp7-BgXUUO4jHzA6U,picture,com.linkedin.voyager.common.MediaProcessorImage'}, 'trackingId': 'Iuio5MmIT2OF/8Z5dnNCiw==', '$type': 'com.linkedin.voyager.identity.shared.MiniProfile'}\n",
      "{'firstName': 'Debraj', 'lastName': 'Ghosh, PhD, MBA', '$deletedFields': [], 'occupation': 'Senior Product Marketing Manager, Threat Protection, Office 365 at Microsoft', 'objectUrn': 'urn:li:member:22478362', 'entityUrn': 'urn:li:fs_miniProfile:ACoAAAFW_hoBgW0gxMNLyMqCXmyXq2tYjrmbRng', 'backgroundImage': {'com.linkedin.voyager.common.MediaProcessorImage': 'urn:li:fs_miniProfile:ACoAAAFW_hoBgW0gxMNLyMqCXmyXq2tYjrmbRng,backgroundImage,com.linkedin.voyager.common.MediaProcessorImage'}, 'publicIdentifier': 'debraj-ghosh-phd-mba-38a6407', 'picture': {'com.linkedin.voyager.common.MediaProcessorImage': 'urn:li:fs_miniProfile:ACoAAAFW_hoBgW0gxMNLyMqCXmyXq2tYjrmbRng,picture,com.linkedin.voyager.common.MediaProcessorImage'}, 'trackingId': 'o2i6xMCTSJmcMlna2tFB7g==', '$type': 'com.linkedin.voyager.identity.shared.MiniProfile'}\n",
      "{'firstName': 'Pilar', 'lastName': 'Martin, MD, MPH, MHSA', '$deletedFields': ['backgroundImage'], 'occupation': 'MPH Program Director, Assistant Professor of Public Health at Adelphi University', 'objectUrn': 'urn:li:member:53009519', 'entityUrn': 'urn:li:fs_miniProfile:ACoAAAMo3G8B9_2QOmzQ5AiJuNn3-Of7QEDy0mU', 'publicIdentifier': 'pilar-martin-md-mph-mhsa-97b90415', 'picture': {'com.linkedin.voyager.common.MediaProcessorImage': 'urn:li:fs_miniProfile:ACoAAAMo3G8B9_2QOmzQ5AiJuNn3-Of7QEDy0mU,picture,com.linkedin.voyager.common.MediaProcessorImage'}, 'trackingId': 'rapqhwM4S+GFW3kYWOshBA==', '$type': 'com.linkedin.voyager.identity.shared.MiniProfile'}\n",
      "{'firstName': 'Dr. Raju', 'lastName': 'Kadam, Ph.D', '$deletedFields': ['backgroundImage'], 'occupation': 'R&D, Manager @ KCTI ( Bharat Forge Ltd ), Pune', 'objectUrn': 'urn:li:member:2134101', 'entityUrn': 'urn:li:fs_miniProfile:ACoAAAAgkFUBrXTDKimJwUazvKe677EbczOE8yg', 'publicIdentifier': 'dr-raju-kadam-ph-d-01986b', 'picture': {'com.linkedin.voyager.common.MediaProcessorImage': 'urn:li:fs_miniProfile:ACoAAAAgkFUBrXTDKimJwUazvKe677EbczOE8yg,picture,com.linkedin.voyager.common.MediaProcessorImage'}, 'trackingId': '05LyaVc8R3GFH6cMycWpWg==', '$type': 'com.linkedin.voyager.identity.shared.MiniProfile'}\n",
      "{'firstName': 'Puja', 'lastName': 'Gorai', '$deletedFields': ['backgroundImage'], 'occupation': 'Looking for highly energetic and motivated analysts @Jumbotail ', 'objectUrn': 'urn:li:member:86561983', 'entityUrn': 'urn:li:fs_miniProfile:ACoAAAUo1L8B2B_ADyhbtm42lt9pOcC-VbHhFyA', 'publicIdentifier': 'puja-gorai-8a7ba524', 'picture': {'com.linkedin.voyager.common.MediaProcessorImage': 'urn:li:fs_miniProfile:ACoAAAUo1L8B2B_ADyhbtm42lt9pOcC-VbHhFyA,picture,com.linkedin.voyager.common.MediaProcessorImage'}, 'trackingId': 'VC3AWSV3SC2AATUC6+nYFQ==', '$type': 'com.linkedin.voyager.identity.shared.MiniProfile'}\n",
      "{'firstName': 'Peter D.', 'lastName': 'Hart, Ph.D.', '$deletedFields': ['backgroundImage'], 'occupation': 'Associate Professor of Health Promotion', 'objectUrn': 'urn:li:member:289375607', 'entityUrn': 'urn:li:fs_miniProfile:ACoAABE_hXcBkcwFjTpFneWoIVDDRNSUQKK9Na8', 'publicIdentifier': 'peter-d-hart-ph-d-89bab280', 'picture': {'com.linkedin.voyager.common.MediaProcessorImage': 'urn:li:fs_miniProfile:ACoAABE_hXcBkcwFjTpFneWoIVDDRNSUQKK9Na8,picture,com.linkedin.voyager.common.MediaProcessorImage'}, 'trackingId': 'MySk2P6iTHW5XKkIOslEUg==', '$type': 'com.linkedin.voyager.identity.shared.MiniProfile'}\n",
      "{'firstName': 'Yuchun Li,', 'lastName': 'Ph.D.', '$deletedFields': ['backgroundImage', 'picture'], 'occupation': 'Data Scientist at Quad Analytix', 'objectUrn': 'urn:li:member:43760608', 'entityUrn': 'urn:li:fs_miniProfile:ACoAAAKbu-ABIk8Bo3wUcWMxqu0f7tn7Cs1RigY', 'publicIdentifier': 'yuchunli', 'trackingId': 'X+TNenr2TvafchuWMWpPdQ==', '$type': 'com.linkedin.voyager.identity.shared.MiniProfile'}\n",
      "{'firstName': 'Kim D.', 'lastName': 'Snyder', '$deletedFields': ['backgroundImage'], 'occupation': 'Enterprise Performance Management (EPM) Strategy Expert & Thought Leader, Keynote Speaker & Author', 'objectUrn': 'urn:li:member:12172566', 'entityUrn': 'urn:li:fs_miniProfile:ACoAAAC5vRYB-cHJxWQHEsOslMEt1z2n94zY-EM', 'publicIdentifier': 'kimdsnyder', 'picture': {'com.linkedin.voyager.common.MediaProcessorImage': 'urn:li:fs_miniProfile:ACoAAAC5vRYB-cHJxWQHEsOslMEt1z2n94zY-EM,picture,com.linkedin.voyager.common.MediaProcessorImage'}, 'trackingId': 'XCw3jqQSRXiHJQ5lUchdqg==', '$type': 'com.linkedin.voyager.identity.shared.MiniProfile'}\n",
      "{'firstName': 'Danny', 'lastName': 'Rueda', '$deletedFields': ['backgroundImage'], 'occupation': 'Data Analytics at Gusto', 'objectUrn': 'urn:li:member:28295330', 'entityUrn': 'urn:li:fs_miniProfile:ACoAAAGvwKIBCwjF35U2VnIfwrkVbybas6aspw0', 'publicIdentifier': 'danny-rueda-7425869', 'picture': {'com.linkedin.voyager.common.MediaProcessorImage': 'urn:li:fs_miniProfile:ACoAAAGvwKIBCwjF35U2VnIfwrkVbybas6aspw0,picture,com.linkedin.voyager.common.MediaProcessorImage'}, 'trackingId': 'CH5/Kp8SQsatXLrRKzjkYQ==', '$type': 'com.linkedin.voyager.identity.shared.MiniProfile'}\n"
     ]
    }
   ],
   "source": [
    "    ###the profile dictionary is inside string now. Use ast module to get literals of the dictionary.\n",
    "    for i in li:\n",
    "        search_results=[]\n",
    "        dict=ast.literal_eval(i)\n",
    "        print(dict)\n",
    "        try: \n",
    "            search_results.append(dict['firstName'])\n",
    "            search_results.append(dict['lastName'])\n",
    "            search_results.append(dict['occupation'])\n",
    "            search_results.append(dict['publicIdentifier'])\n",
    "            search_results.append(company_name)\n",
    "            list_of_lists.append(search_results)\n",
    "        except KeyError:\n",
    "            list_of_lists=list_of_lists\n",
    "    time_delay=random.randint(0,30)\n",
    "    time.sleep(time_delay)\n",
    "    \n",
    "\n",
    "    "
   ]
  },
  {
   "cell_type": "code",
   "execution_count": 279,
   "metadata": {
    "collapsed": false
   },
   "outputs": [
    {
     "data": {
      "text/plain": [
       "[['Shubham',\n",
       "  'Badjate',\n",
       "  'Lead Technical Consultant | IIT Bombay',\n",
       "  'sbadjate',\n",
       "  'd'],\n",
       " ['Haiming Silvia',\n",
       "  'Zhao',\n",
       "  'Sr. Manager, Business Analytics and Data Science at LinkedIn',\n",
       "  'haiming-silvia-zhao-20758a6',\n",
       "  'd'],\n",
       " ['Lawrence',\n",
       "  'Chaifetz',\n",
       "  'Senior Vice President at WaZee Consulting',\n",
       "  'lawrence-chaifetz-79415928',\n",
       "  'd'],\n",
       " ['Michael',\n",
       "  'Melchior',\n",
       "  'Team Lead: Global HIV - Monitoring, Evaluation, Data Analytics Branch',\n",
       "  'michael-melchior-25389734',\n",
       "  'd'],\n",
       " ['Errol',\n",
       "  'Rodriguez Ph.D., CRC, MAC',\n",
       "  'Assistant Dean & Program Director, Masters Programs in Psychology and Mental Health Counseling, Adelphi University',\n",
       "  'errol-rodriguez-ph-d-crc-mac-45028232',\n",
       "  'd'],\n",
       " ['Elon',\n",
       "  'D. Rubin, Esq.',\n",
       "  'iOS Developer (Full Stack), Product Manager UI/UX Designer, Data Architect, Attorney & Innovator',\n",
       "  'elonrubin',\n",
       "  'd'],\n",
       " ['Chris',\n",
       "  'DMello',\n",
       "  'Director Big Data Analytics at TEQRIDGE',\n",
       "  'chrisdmello',\n",
       "  'd'],\n",
       " ['Paul',\n",
       "  'Weisser',\n",
       "  'Writer/Editor/Desktop Publisher, Ph.D.',\n",
       "  'paulweisser',\n",
       "  'd'],\n",
       " ['Doug', 'Berman', 'Product Manager at Drizly', 'dougjberman', 'd'],\n",
       " ['Peter', 'Zhu', 'How I can help YOU?', 'peterzhu1', 'd'],\n",
       " ['Yongzheng (Tiger)',\n",
       "  'Zhang',\n",
       "  'Senior Staff, Analytics at LinkedIn',\n",
       "  'tigerzhang',\n",
       "  'd'],\n",
       " ['Mark D.',\n",
       "  'Bardini, Ph.D.',\n",
       "  'Senior Vice President, M&E and U.S. Operations',\n",
       "  'bardini',\n",
       "  'd'],\n",
       " ['Justin',\n",
       "  'Choi EMBA CISSP',\n",
       "  'Executive',\n",
       "  'justin-choi-emba-cissp-8b0733a2',\n",
       "  'd'],\n",
       " ['Eve', 'Miller', 'Intertrust is hiring!', 'eve81', 'd'],\n",
       " ['Jon', 'Wolheim, PHR', 'Senior Manager, People at Apple', 'jonwolheim', 'd'],\n",
       " ['Nisha', 'Mutneja', 'Exploring', 'nishamutneja', 'd'],\n",
       " ['John D.',\n",
       "  'Johnson, Ph.D.',\n",
       "  'Information Security, Architecture & Risk Leader',\n",
       "  'nullsession',\n",
       "  'd'],\n",
       " ['Ganesh',\n",
       "  'Balakrishnan',\n",
       "  'AVP Seller Services at ShopClues',\n",
       "  'ganeshbalakrishnan',\n",
       "  'd'],\n",
       " ['Manoranjan',\n",
       "  'Sahu, Ph.D.',\n",
       "  'R & D Scientist at SunEdison',\n",
       "  'manoranjan1',\n",
       "  'd'],\n",
       " ['Debraj',\n",
       "  'Ghosh, PhD, MBA',\n",
       "  'Senior Product Marketing Manager, Threat Protection, Office 365 at Microsoft',\n",
       "  'debraj-ghosh-phd-mba-38a6407',\n",
       "  'd'],\n",
       " ['Pilar',\n",
       "  'Martin, MD, MPH, MHSA',\n",
       "  'MPH Program Director, Assistant Professor of Public Health at Adelphi University',\n",
       "  'pilar-martin-md-mph-mhsa-97b90415',\n",
       "  'd'],\n",
       " ['Dr. Raju',\n",
       "  'Kadam, Ph.D',\n",
       "  'R&D, Manager @ KCTI ( Bharat Forge Ltd ), Pune',\n",
       "  'dr-raju-kadam-ph-d-01986b',\n",
       "  'd'],\n",
       " ['Puja',\n",
       "  'Gorai',\n",
       "  'Looking for highly energetic and motivated analysts @Jumbotail ',\n",
       "  'puja-gorai-8a7ba524',\n",
       "  'd'],\n",
       " ['Peter D.',\n",
       "  'Hart, Ph.D.',\n",
       "  'Associate Professor of Health Promotion',\n",
       "  'peter-d-hart-ph-d-89bab280',\n",
       "  'd'],\n",
       " ['Yuchun Li,', 'Ph.D.', 'Data Scientist at Quad Analytix', 'yuchunli', 'd'],\n",
       " ['Kim D.',\n",
       "  'Snyder',\n",
       "  'Enterprise Performance Management (EPM) Strategy Expert & Thought Leader, Keynote Speaker & Author',\n",
       "  'kimdsnyder',\n",
       "  'd'],\n",
       " ['Danny', 'Rueda', 'Data Analytics at Gusto', 'danny-rueda-7425869', 'd']]"
      ]
     },
     "execution_count": 279,
     "metadata": {},
     "output_type": "execute_result"
    }
   ],
   "source": [
    "list_of_lists"
   ]
  },
  {
   "cell_type": "code",
   "execution_count": 280,
   "metadata": {
    "collapsed": false
   },
   "outputs": [],
   "source": [
    "leads_df=pd.DataFrame(list_of_lists,columns=cols)\n",
    "leads_df.to_csv('/Users/Jaspinder/Desktop/five_referrals/leads_table.csv')"
   ]
  },
  {
   "cell_type": "code",
   "execution_count": 281,
   "metadata": {
    "collapsed": false
   },
   "outputs": [
    {
     "data": {
      "text/plain": [
       "200"
      ]
     },
     "execution_count": 281,
     "metadata": {},
     "output_type": "execute_result"
    }
   ],
   "source": [
    "response3=client.get(random.choice(proxy_urls))\n",
    "response3.status_code"
   ]
  },
  {
   "cell_type": "code",
   "execution_count": 287,
   "metadata": {
    "collapsed": false
   },
   "outputs": [
    {
     "data": {
      "text/plain": [
       "0"
      ]
     },
     "execution_count": 287,
     "metadata": {},
     "output_type": "execute_result"
    }
   ],
   "source": [
    "search_list.index('Awesound')"
   ]
  },
  {
   "cell_type": "code",
   "execution_count": null,
   "metadata": {
    "collapsed": true
   },
   "outputs": [],
   "source": []
  }
 ],
 "metadata": {
  "kernelspec": {
   "display_name": "Python 3",
   "language": "python",
   "name": "python3"
  },
  "language_info": {
   "codemirror_mode": {
    "name": "ipython",
    "version": 3
   },
   "file_extension": ".py",
   "mimetype": "text/x-python",
   "name": "python",
   "nbconvert_exporter": "python",
   "pygments_lexer": "ipython3",
   "version": "3.6.0"
  }
 },
 "nbformat": 4,
 "nbformat_minor": 2
}
