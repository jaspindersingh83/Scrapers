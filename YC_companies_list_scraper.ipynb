{
 "cells": [
  {
   "cell_type": "code",
   "execution_count": 1,
   "metadata": {
    "collapsed": false
   },
   "outputs": [
    {
     "name": "stderr",
     "output_type": "stream",
     "text": [
      "/Users/Jaspinder/anaconda/lib/python3.6/site-packages/numexpr/cpuinfo.py:76: UserWarning: [Errno 2] No such file or directory: 'sysctl'\n",
      "  stacklevel=stacklevel + 1):\n"
     ]
    },
    {
     "name": "stdout",
     "output_type": "stream",
     "text": [
      "200\n"
     ]
    }
   ],
   "source": [
    "import pandas as pd\n",
    "import requests\n",
    "response = requests.get('http://yclist.com/')\n",
    "print(response.status_code)\n",
    "content=response.content"
   ]
  },
  {
   "cell_type": "code",
   "execution_count": 2,
   "metadata": {
    "collapsed": false
   },
   "outputs": [],
   "source": [
    "from bs4 import BeautifulSoup\n",
    "parser=BeautifulSoup(content,'html.parser')\n",
    "table_row=parser.find_all('tr')\n",
    "list_of_lists=[]\n"
   ]
  },
  {
   "cell_type": "code",
   "execution_count": 3,
   "metadata": {
    "collapsed": false
   },
   "outputs": [
    {
     "data": {
      "text/plain": [
       "[['Awesound',\n",
       "  'https://awesound.com',\n",
       "  '            F2',\n",
       "  '          ',\n",
       "  '            AdWords for podcasts'],\n",
       " ['BillionToOne',\n",
       "  'http://www.billiontoone.com',\n",
       "  '            F2',\n",
       "  '          ',\n",
       "  '            Fetal genetic testing in India']]"
      ]
     },
     "execution_count": 3,
     "metadata": {},
     "output_type": "execute_result"
    }
   ],
   "source": [
    "for i in range(1,len(table_row)-1):\n",
    "    li=table_row[i].text.split('\\n')\n",
    "    li=[i for i in li if len(i)>0][0:5]\n",
    "    try:\n",
    "        if li[3]!='Dead' and li[3]!='Exited' and li[4]!='Exited':\n",
    "            list_of_lists.append(li)\n",
    "    except IndexError:\n",
    "        list_of_lists=list_of_lists\n",
    "       \n",
    "list_of_lists[:2]"
   ]
  },
  {
   "cell_type": "code",
   "execution_count": 4,
   "metadata": {
    "collapsed": false
   },
   "outputs": [
    {
     "data": {
      "text/html": [
       "<div>\n",
       "<table border=\"1\" class=\"dataframe\">\n",
       "  <thead>\n",
       "    <tr style=\"text-align: right;\">\n",
       "      <th></th>\n",
       "      <th>Name</th>\n",
       "      <th>URL</th>\n",
       "      <th>Class</th>\n",
       "      <th>Status</th>\n",
       "      <th>Description</th>\n",
       "    </tr>\n",
       "  </thead>\n",
       "  <tbody>\n",
       "    <tr>\n",
       "      <th>0</th>\n",
       "      <td>Awesound</td>\n",
       "      <td>https://awesound.com</td>\n",
       "      <td>F2</td>\n",
       "      <td></td>\n",
       "      <td>AdWords for podcasts</td>\n",
       "    </tr>\n",
       "    <tr>\n",
       "      <th>1</th>\n",
       "      <td>BillionToOne</td>\n",
       "      <td>http://www.billiontoone.com</td>\n",
       "      <td>F2</td>\n",
       "      <td></td>\n",
       "      <td>Fetal genetic testing in India</td>\n",
       "    </tr>\n",
       "    <tr>\n",
       "      <th>2</th>\n",
       "      <td>Bulletin</td>\n",
       "      <td>http://shop-bulletin.com</td>\n",
       "      <td>F2</td>\n",
       "      <td></td>\n",
       "      <td>Airbnb for retail</td>\n",
       "    </tr>\n",
       "    <tr>\n",
       "      <th>3</th>\n",
       "      <td>Cerplus</td>\n",
       "      <td>http://www.getcerplus.com</td>\n",
       "      <td>F2</td>\n",
       "      <td></td>\n",
       "      <td>B2B marketplace for surplus produce</td>\n",
       "    </tr>\n",
       "    <tr>\n",
       "      <th>4</th>\n",
       "      <td>ConnectHealth</td>\n",
       "      <td>http://www.connecthealth.io</td>\n",
       "      <td>F2</td>\n",
       "      <td></td>\n",
       "      <td>Telemedicine and prescription deli...</td>\n",
       "    </tr>\n",
       "  </tbody>\n",
       "</table>\n",
       "</div>"
      ],
      "text/plain": [
       "            Name                          URL           Class      Status  \\\n",
       "0       Awesound         https://awesound.com              F2               \n",
       "1   BillionToOne  http://www.billiontoone.com              F2               \n",
       "2       Bulletin     http://shop-bulletin.com              F2               \n",
       "3        Cerplus    http://www.getcerplus.com              F2               \n",
       "4  ConnectHealth  http://www.connecthealth.io              F2               \n",
       "\n",
       "                                         Description  \n",
       "0                               AdWords for podcasts  \n",
       "1                     Fetal genetic testing in India  \n",
       "2                                  Airbnb for retail  \n",
       "3                B2B marketplace for surplus produce  \n",
       "4              Telemedicine and prescription deli...  "
      ]
     },
     "execution_count": 4,
     "metadata": {},
     "output_type": "execute_result"
    }
   ],
   "source": [
    "cols=['Name', 'URL', 'Class', 'Status', 'Description']\n",
    "df2=pd.DataFrame(list_of_lists,columns=cols)\n",
    "df2.to_csv('customer_table.csv')\n",
    "df2.head()"
   ]
  },
  {
   "cell_type": "code",
   "execution_count": null,
   "metadata": {
    "collapsed": true
   },
   "outputs": [],
   "source": []
  }
 ],
 "metadata": {
  "kernelspec": {
   "display_name": "Python 3",
   "language": "python",
   "name": "python3"
  },
  "language_info": {
   "codemirror_mode": {
    "name": "ipython",
    "version": 3
   },
   "file_extension": ".py",
   "mimetype": "text/x-python",
   "name": "python",
   "nbconvert_exporter": "python",
   "pygments_lexer": "ipython3",
   "version": "3.6.0"
  }
 },
 "nbformat": 4,
 "nbformat_minor": 2
}
